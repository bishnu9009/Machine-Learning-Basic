{
 "cells": [
  {
   "cell_type": "markdown",
   "id": "13cf3136",
   "metadata": {},
   "source": [
    "<center><h1>Assignment 6(Day 6)</h1></center>"
   ]
  },
  {
   "cell_type": "code",
   "execution_count": 37,
   "id": "cb62c68d",
   "metadata": {},
   "outputs": [],
   "source": [
    "import warnings\n",
    "warnings.filterwarnings('default')\n"
   ]
  },
  {
   "cell_type": "markdown",
   "id": "93aa51b1",
   "metadata": {},
   "source": [
    "<h3>Question 1:- Treat the data to replace all missing data with median / mode (whichever applicable), and remove all rows with outliers in column: ‘Price’</h3>"
   ]
  },
  {
   "cell_type": "code",
   "execution_count": 1,
   "id": "3ed9476e",
   "metadata": {},
   "outputs": [
    {
     "name": "stdout",
     "output_type": "stream",
     "text": [
      "<class 'pandas.core.frame.DataFrame'>\n",
      "RangeIndex: 1259 entries, 0 to 1258\n",
      "Data columns (total 9 columns):\n",
      " #   Column       Non-Null Count  Dtype  \n",
      "---  ------       --------------  -----  \n",
      " 0   Area         1259 non-null   float64\n",
      " 1   BHK          1259 non-null   int64  \n",
      " 2   Bathroom     1257 non-null   float64\n",
      " 3   Furnishing   1254 non-null   object \n",
      " 4   Parking      1226 non-null   float64\n",
      " 5   Price        1259 non-null   int64  \n",
      " 6   Status       1259 non-null   object \n",
      " 7   Transaction  1259 non-null   object \n",
      " 8   Type         1254 non-null   object \n",
      "dtypes: float64(3), int64(2), object(4)\n",
      "memory usage: 88.6+ KB\n",
      "None\n",
      "Area            0\n",
      "BHK             0\n",
      "Bathroom        2\n",
      "Furnishing      5\n",
      "Parking        33\n",
      "Price           0\n",
      "Status          0\n",
      "Transaction     0\n",
      "Type            5\n",
      "dtype: int64\n",
      "         Area  BHK  Bathroom      Furnishing  Parking     Price  \\\n",
      "0       800.0    3       2.0  Semi-Furnished      1.0   6500000   \n",
      "1       750.0    2       2.0  Semi-Furnished      1.0   5000000   \n",
      "2       950.0    2       2.0       Furnished      1.0  15500000   \n",
      "3       600.0    2       2.0  Semi-Furnished      1.0   4200000   \n",
      "4       650.0    2       2.0  Semi-Furnished      1.0   6200000   \n",
      "...       ...  ...       ...             ...      ...       ...   \n",
      "1254   4118.0    4       5.0     Unfurnished      3.0  55000000   \n",
      "1255   1050.0    3       2.0  Semi-Furnished      3.0  12500000   \n",
      "1256    875.0    3       3.0  Semi-Furnished      3.0  17500000   \n",
      "1257    990.0    2       2.0     Unfurnished      1.0  11500000   \n",
      "1258  11050.0    3       3.0     Unfurnished      1.0  18500000   \n",
      "\n",
      "             Status   Transaction           Type  \n",
      "0     Ready_to_move  New_Property  Builder_Floor  \n",
      "1     Ready_to_move  New_Property      Apartment  \n",
      "2     Ready_to_move        Resale      Apartment  \n",
      "3     Ready_to_move        Resale  Builder_Floor  \n",
      "4     Ready_to_move  New_Property  Builder_Floor  \n",
      "...             ...           ...            ...  \n",
      "1254  Ready_to_move  New_Property  Builder_Floor  \n",
      "1255  Ready_to_move        Resale  Builder_Floor  \n",
      "1256  Ready_to_move  New_Property  Builder_Floor  \n",
      "1257  Ready_to_move        Resale  Builder_Floor  \n",
      "1258  Ready_to_move  New_Property  Builder_Floor  \n",
      "\n",
      "[1259 rows x 9 columns]\n"
     ]
    }
   ],
   "source": [
    "#Answer\n",
    "import numpy as np\n",
    "import pandas as pd\n",
    "import matplotlib.pyplot as plt\n",
    "import seaborn as sns\n",
    "import sklearn\n",
    "\n",
    "df = pd.read_csv('Dataset_Day6.csv') # Creating data frame from the csv.\n",
    "\n",
    "print(df.info())                     # Printing the information for the dataset.\n",
    "\n",
    "print(df.isna().sum())               # Checking for null and NaN values in the dataset.\n",
    "\n",
    "print(df)"
   ]
  },
  {
   "cell_type": "code",
   "execution_count": 2,
   "id": "7c819bd0",
   "metadata": {
    "scrolled": false
   },
   "outputs": [
    {
     "name": "stdout",
     "output_type": "stream",
     "text": [
      "               Area          BHK     Bathroom      Parking         Price\n",
      "count   1259.000000  1259.000000  1257.000000  1226.000000  1.259000e+03\n",
      "mean    1466.452724     2.796664     2.556086     1.935563  2.130670e+07\n",
      "std     1568.055040     0.954425     1.042220     6.279212  2.560115e+07\n",
      "min       28.000000     1.000000     1.000000     1.000000  1.000000e+06\n",
      "25%      800.000000     2.000000     2.000000     1.000000  5.700000e+06\n",
      "50%     1200.000000     3.000000     2.000000     1.000000  1.420000e+07\n",
      "75%     1700.000000     3.000000     3.000000     2.000000  2.550000e+07\n",
      "max    24300.000000    10.000000     7.000000   114.000000  2.400000e+08\n"
     ]
    }
   ],
   "source": [
    "statistics = df.describe()          # Descriptive statistics for each columns.\n",
    "print(statistics)"
   ]
  },
  {
   "cell_type": "code",
   "execution_count": 3,
   "id": "8b4e830e",
   "metadata": {},
   "outputs": [],
   "source": [
    "value=df['Bathroom'].mode()       # Replacing the missing data for 'Bathroom',since it is a catagorical variable we use mode. \n",
    "value=value.to_numpy()            # Since the .mode() function is returning a panda series we take a numpy\n",
    "                                  # array of it and its index 1(2nd) value.\n",
    "\n",
    "df['Bathroom'].fillna(value[0], inplace=True)\n",
    "\n",
    "#------------------------------------------------------------------------------------------------------------------------------\n",
    "\n",
    "value=df['Furnishing'].mode()     # Replacing the missing data for 'Furnishing',since it is a catagorical variable we use mode. \n",
    "value=value.to_numpy()            # Since the .mode() function is returning a panda series we take a numpy\n",
    "                                  # array of it and its index 1(2nd) value.\n",
    "\n",
    "df['Furnishing'].fillna(value[0], inplace=True)\n",
    "\n",
    "#------------------------------------------------------------------------------------------------------------------------------\n",
    "\n",
    "value=df['Parking'].mode()        # Replacing the missing data for 'Parking',since it is a catagorical variable we use mode. \n",
    "value=value.to_numpy()            # Since the .mode() function is returning a panda series we take a numpy\n",
    "                                  # array of it and its index 1(2nd) value.\n",
    "\n",
    "df['Parking'].fillna(value[0], inplace=True)\n",
    "\n",
    "#-----------------------------------------------------------------------------------------------------------------------------\n",
    "\n",
    "value=df['Type'].mode()           # Replacing the missing data for 'Type',since it is a catagorical variable we use mode. \n",
    "value=value.to_numpy()            # Since the .mode() function is returning a panda series we take a numpy\n",
    "                                  # array of it and its index 1(2nd) value.\n",
    "\n",
    "df['Type'].fillna(value[0], inplace=True)"
   ]
  },
  {
   "cell_type": "code",
   "execution_count": 4,
   "id": "3ea82371",
   "metadata": {},
   "outputs": [],
   "source": [
    "df[\"BHK\"] = df[\"BHK\"].astype(str)\n",
    "df[\"Bathroom\"] = df[\"Bathroom\"].astype(str)\n",
    "df[\"Parking\"] = df[\"Parking\"].astype(str)"
   ]
  },
  {
   "cell_type": "code",
   "execution_count": 5,
   "id": "0f96034f",
   "metadata": {
    "scrolled": false
   },
   "outputs": [
    {
     "name": "stdout",
     "output_type": "stream",
     "text": [
      "Area           0\n",
      "BHK            0\n",
      "Bathroom       0\n",
      "Furnishing     0\n",
      "Parking        0\n",
      "Price          0\n",
      "Status         0\n",
      "Transaction    0\n",
      "Type           0\n",
      "dtype: int64\n"
     ]
    }
   ],
   "source": [
    "print(df.isna().sum())               # Checking for null and NaN values in the dataset after filling missing values."
   ]
  },
  {
   "cell_type": "code",
   "execution_count": 6,
   "id": "01011e7d",
   "metadata": {
    "scrolled": false
   },
   "outputs": [
    {
     "name": "stdout",
     "output_type": "stream",
     "text": [
      "<class 'pandas.core.frame.DataFrame'>\n",
      "RangeIndex: 1259 entries, 0 to 1258\n",
      "Data columns (total 9 columns):\n",
      " #   Column       Non-Null Count  Dtype  \n",
      "---  ------       --------------  -----  \n",
      " 0   Area         1259 non-null   float64\n",
      " 1   BHK          1259 non-null   object \n",
      " 2   Bathroom     1259 non-null   object \n",
      " 3   Furnishing   1259 non-null   object \n",
      " 4   Parking      1259 non-null   object \n",
      " 5   Price        1259 non-null   int64  \n",
      " 6   Status       1259 non-null   object \n",
      " 7   Transaction  1259 non-null   object \n",
      " 8   Type         1259 non-null   object \n",
      "dtypes: float64(1), int64(1), object(7)\n",
      "memory usage: 88.6+ KB\n"
     ]
    }
   ],
   "source": [
    "df.info()"
   ]
  },
  {
   "cell_type": "code",
   "execution_count": 7,
   "id": "549183c8",
   "metadata": {},
   "outputs": [
    {
     "data": {
      "text/plain": [
       "<Axes: >"
      ]
     },
     "execution_count": 7,
     "metadata": {},
     "output_type": "execute_result"
    },
    {
     "data": {
      "image/png": "[encoded data removed]",
      "text/plain": [
       "<Figure size 640x480 with 1 Axes>"
      ]
     },
     "metadata": {},
     "output_type": "display_data"
    }
   ],
   "source": [
    "sns.boxplot(df[\"Price\"])     # Before Outlier Removal."
   ]
  },
  {
   "cell_type": "code",
   "execution_count": 8,
   "id": "c54f5e73",
   "metadata": {},
   "outputs": [
    {
     "name": "stdout",
     "output_type": "stream",
     "text": [
      "         Area BHK Bathroom      Furnishing Parking     Price         Status  \\\n",
      "0       800.0   3      2.0  Semi-Furnished     1.0   6500000  Ready_to_move   \n",
      "1       750.0   2      2.0  Semi-Furnished     1.0   5000000  Ready_to_move   \n",
      "2       950.0   2      2.0       Furnished     1.0  15500000  Ready_to_move   \n",
      "3       600.0   2      2.0  Semi-Furnished     1.0   4200000  Ready_to_move   \n",
      "4       650.0   2      2.0  Semi-Furnished     1.0   6200000  Ready_to_move   \n",
      "...       ...  ..      ...             ...     ...       ...            ...   \n",
      "1254   4118.0   4      5.0     Unfurnished     3.0  55000000  Ready_to_move   \n",
      "1255   1050.0   3      2.0  Semi-Furnished     3.0  12500000  Ready_to_move   \n",
      "1256    875.0   3      3.0  Semi-Furnished     3.0  17500000  Ready_to_move   \n",
      "1257    990.0   2      2.0     Unfurnished     1.0  11500000  Ready_to_move   \n",
      "1258  11050.0   3      3.0     Unfurnished     1.0  18500000  Ready_to_move   \n",
      "\n",
      "       Transaction           Type  \n",
      "0     New_Property  Builder_Floor  \n",
      "1     New_Property      Apartment  \n",
      "2           Resale      Apartment  \n",
      "3           Resale  Builder_Floor  \n",
      "4     New_Property  Builder_Floor  \n",
      "...            ...            ...  \n",
      "1254  New_Property  Builder_Floor  \n",
      "1255        Resale  Builder_Floor  \n",
      "1256  New_Property  Builder_Floor  \n",
      "1257        Resale  Builder_Floor  \n",
      "1258  New_Property  Builder_Floor  \n",
      "\n",
      "[1155 rows x 9 columns]\n"
     ]
    }
   ],
   "source": [
    "# Removing the outliers from the 'Price' column\n",
    "Q1 = df['Price'].quantile(0.25)\n",
    "Q3 = df['Price'].quantile(0.75)\n",
    "\n",
    "IQR = Q3 - Q1\n",
    "\n",
    "lower_bound = Q1 - 1.5 * IQR\n",
    "upper_bound = Q3 + 1.5 * IQR\n",
    "\n",
    "outliers = (df['Price'] < lower_bound) | (df['Price'] > upper_bound)\n",
    "\n",
    "df = df[~outliers]\n",
    "\n",
    "print(df)"
   ]
  },
  {
   "cell_type": "code",
   "execution_count": 9,
   "id": "328c81e5",
   "metadata": {},
   "outputs": [
    {
     "name": "stdout",
     "output_type": "stream",
     "text": [
      "<class 'pandas.core.frame.DataFrame'>\n",
      "Int64Index: 1155 entries, 0 to 1258\n",
      "Data columns (total 9 columns):\n",
      " #   Column       Non-Null Count  Dtype  \n",
      "---  ------       --------------  -----  \n",
      " 0   Area         1155 non-null   float64\n",
      " 1   BHK          1155 non-null   object \n",
      " 2   Bathroom     1155 non-null   object \n",
      " 3   Furnishing   1155 non-null   object \n",
      " 4   Parking      1155 non-null   object \n",
      " 5   Price        1155 non-null   int64  \n",
      " 6   Status       1155 non-null   object \n",
      " 7   Transaction  1155 non-null   object \n",
      " 8   Type         1155 non-null   object \n",
      "dtypes: float64(1), int64(1), object(7)\n",
      "memory usage: 90.2+ KB\n",
      "None\n"
     ]
    }
   ],
   "source": [
    "print(df.info())"
   ]
  },
  {
   "cell_type": "code",
   "execution_count": 10,
   "id": "185861d8",
   "metadata": {
    "scrolled": false
   },
   "outputs": [
    {
     "data": {
      "text/plain": [
       "<Axes: >"
      ]
     },
     "execution_count": 10,
     "metadata": {},
     "output_type": "execute_result"
    },
    {
     "data": {
      "image/png": "[encoded data removed]",
      "text/plain": [
       "<Figure size 640x480 with 1 Axes>"
      ]
     },
     "metadata": {},
     "output_type": "display_data"
    }
   ],
   "source": [
    "sns.boxplot(df['Price'])    # After Removing the outliers."
   ]
  },
  {
   "cell_type": "code",
   "execution_count": 11,
   "id": "9661b506",
   "metadata": {},
   "outputs": [
    {
     "data": {
      "text/plain": [
       "<seaborn.axisgrid.PairGrid at 0x14ab240b370>"
      ]
     },
     "execution_count": 11,
     "metadata": {},
     "output_type": "execute_result"
    },
    {
     "data": {
      "image/png": "[encoded data removed]",
      "text/plain": [
       "<Figure size 500x500 with 6 Axes>"
      ]
     },
     "metadata": {},
     "output_type": "display_data"
    }
   ],
   "source": [
    "sns.pairplot(df)"
   ]
  },
  {
   "cell_type": "markdown",
   "id": "1caa5796",
   "metadata": {},
   "source": [
    "<h3>Question 2:- Use One Hot Encoding to encode all character variables.<h/h3>"
   ]
  },
  {
   "cell_type": "code",
   "execution_count": 12,
   "id": "b4f85fb1",
   "metadata": {},
   "outputs": [
    {
     "name": "stdout",
     "output_type": "stream",
     "text": [
      "<class 'pandas.core.frame.DataFrame'>\n",
      "Int64Index: 1155 entries, 0 to 1258\n",
      "Data columns (total 33 columns):\n",
      " #   Column                     Non-Null Count  Dtype  \n",
      "---  ------                     --------------  -----  \n",
      " 0   Area                       1155 non-null   float64\n",
      " 1   Price                      1155 non-null   int64  \n",
      " 2   BHK_1                      1155 non-null   uint8  \n",
      " 3   BHK_10                     1155 non-null   uint8  \n",
      " 4   BHK_2                      1155 non-null   uint8  \n",
      " 5   BHK_3                      1155 non-null   uint8  \n",
      " 6   BHK_4                      1155 non-null   uint8  \n",
      " 7   BHK_5                      1155 non-null   uint8  \n",
      " 8   BHK_6                      1155 non-null   uint8  \n",
      " 9   BHK_7                      1155 non-null   uint8  \n",
      " 10  Bathroom_1.0               1155 non-null   uint8  \n",
      " 11  Bathroom_2.0               1155 non-null   uint8  \n",
      " 12  Bathroom_3.0               1155 non-null   uint8  \n",
      " 13  Bathroom_4.0               1155 non-null   uint8  \n",
      " 14  Bathroom_5.0               1155 non-null   uint8  \n",
      " 15  Bathroom_6.0               1155 non-null   uint8  \n",
      " 16  Furnishing_Furnished       1155 non-null   uint8  \n",
      " 17  Furnishing_Semi-Furnished  1155 non-null   uint8  \n",
      " 18  Furnishing_Unfurnished     1155 non-null   uint8  \n",
      " 19  Parking_1.0                1155 non-null   uint8  \n",
      " 20  Parking_10.0               1155 non-null   uint8  \n",
      " 21  Parking_114.0              1155 non-null   uint8  \n",
      " 22  Parking_2.0                1155 non-null   uint8  \n",
      " 23  Parking_3.0                1155 non-null   uint8  \n",
      " 24  Parking_39.0               1155 non-null   uint8  \n",
      " 25  Parking_4.0                1155 non-null   uint8  \n",
      " 26  Parking_5.0                1155 non-null   uint8  \n",
      " 27  Status_Almost_ready        1155 non-null   uint8  \n",
      " 28  Status_Ready_to_move       1155 non-null   uint8  \n",
      " 29  Transaction_New_Property   1155 non-null   uint8  \n",
      " 30  Transaction_Resale         1155 non-null   uint8  \n",
      " 31  Type_Apartment             1155 non-null   uint8  \n",
      " 32  Type_Builder_Floor         1155 non-null   uint8  \n",
      "dtypes: float64(1), int64(1), uint8(31)\n",
      "memory usage: 94.3 KB\n"
     ]
    }
   ],
   "source": [
    "#Answer\n",
    "df_encoded = pd.get_dummies(df)\n",
    "df = df_encoded\n",
    "df.info()"
   ]
  },
  {
   "cell_type": "markdown",
   "id": "ee998b78",
   "metadata": {},
   "source": [
    "<h3>Question 3:-<br><br> (a) Split the data into 80% training and 20% testing data.<br><br> (b) Then, create a multiple linear regression model with target variable as ‘Price’.<br><br> (c) Print the model performance metrics. R^2, Adjusted R^2, MAE</h3>"
   ]
  },
  {
   "cell_type": "code",
   "execution_count": 13,
   "id": "f7f58f4b",
   "metadata": {},
   "outputs": [],
   "source": [
    "#Answer\n",
    "from sklearn.model_selection import train_test_split\n",
    "\n",
    "# Data Splitting\n",
    "\n",
    "x = df.drop(\"Price\",axis=1)\n",
    "y = df[\"Price\"]    # Making dataframe y from the 'Price' column of dataframe.\n",
    "\n",
    "x_train,x_test, y_train, y_test = train_test_split(x,y,test_size = 0.20,random_state = 50)"
   ]
  },
  {
   "cell_type": "code",
   "execution_count": 14,
   "id": "a086e2da",
   "metadata": {},
   "outputs": [
    {
     "name": "stdout",
     "output_type": "stream",
     "text": [
      "Scale Parameter:- [ 1.26198815e+03 -1.46055296e+05 -1.25935637e+07  1.49606126e+06\n",
      "  4.06254408e+06  5.27703560e+06  9.78216543e+06 -7.98043150e+06\n",
      "  1.02244086e+05 -1.38781907e+07 -1.02128357e+07 -1.40361390e+06\n",
      "  7.24388606e+06  1.57703463e+07  2.48040790e+06 -8.15318898e+04\n",
      "  1.25540459e+05 -4.40085695e+04 -1.26920613e+06 -3.72529030e-09\n",
      " -4.69309247e+05  3.74379707e+06  6.87084367e+06 -5.10088598e+05\n",
      " -4.66714440e+05 -7.89932233e+06  3.59646332e+05 -3.59646332e+05\n",
      " -3.49586104e+05  3.49586104e+05  1.04725615e+05 -1.04725615e+05]\n",
      "\n",
      "Intercept Parameter:- 16871288.89384168\n",
      "\n",
      "The Mean Absolute Error:- 6824533.158323205\n",
      "\n",
      "The Mean Squared Error:- 79725790130170.88\n",
      "\n",
      "R^2 Score:- \t54.54537037226261 %\n",
      "\n",
      "Adjusted R^2 Score:- 56.07251106024158 %\n",
      "\n"
     ]
    }
   ],
   "source": [
    "#Answer\n",
    "from sklearn.linear_model import LinearRegression\n",
    "from sklearn.metrics import r2_score,mean_absolute_error, mean_squared_error\n",
    "\n",
    "lm = LinearRegression()                            # Calling and fitting the model on training dataset.\n",
    "lm = lm.fit(x_train,y_train)\n",
    "\n",
    "y_pred = lm.predict(x_test)                        # Predicting using test dataset\n",
    "\n",
    "print(f\"Scale Parameter:- {lm.coef_}\\n\")           # Scale parameter\n",
    "print(f\"Intercept Parameter:- {lm.intercept_}\\n\")  # Intercept parameter\n",
    "\n",
    "print(f\"The Mean Absolute Error:- {mean_absolute_error(y_test, y_pred)}\\n\")  # MAE\n",
    "print(f\"The Mean Squared Error:- {mean_squared_error(y_test, y_pred)}\\n\")    # MSE\n",
    "\n",
    "n = len(y)\n",
    "k = x.shape[1]\n",
    "temp = r2_score(y_test, y_pred)*100\n",
    "adjusted_r = 1 - (1 - temp) * (n - 1) / (n - k - 1)\n",
    "\n",
    "print(f\"R^2 Score:- \\t{r2_score(y_test, y_pred)*100} %\\n\")\n",
    "print(f\"Adjusted R^2 Score:- {adjusted_r} %\\n\")"
   ]
  },
  {
   "cell_type": "markdown",
   "id": "cebf32a3",
   "metadata": {},
   "source": [
    "<h3>Question 4:- Repeat the above process for a Ridge Regression and show from the new evaluation metrics if there is any improvement in the model performance?</h3>"
   ]
  },
  {
   "cell_type": "code",
   "execution_count": 35,
   "id": "5579d8d4",
   "metadata": {
    "scrolled": false
   },
   "outputs": [
    {
     "name": "stdout",
     "output_type": "stream",
     "text": [
      "alpha taken:- [1e-10, 1e-08, 0.001, 0.01, 1, 5, 10, 20, 30, 35, 40, 45, 50, 55, 100]\n",
      "\n",
      "Mean Square Error is 79791296486334.9\n",
      "\n",
      "R^2 Score:- 0.545454763617895 for alpha:-1e-10\n",
      "R^2 Score:- 0.5454537143941807 for alpha:-1e-08\n",
      "R^2 Score:- 0.5454539996754503 for alpha:-0.001\n",
      "R^2 Score:- 0.5454566523274553 for alpha:-0.01\n",
      "R^2 Score:- 0.5456187978064224 for alpha:-1\n",
      "R^2 Score:- 0.5447411271113316 for alpha:-5\n",
      "R^2 Score:- 0.5422797859260431 for alpha:-10\n",
      "R^2 Score:- 0.53608031430714 for alpha:-20\n",
      "R^2 Score:- 0.529582094727102 for alpha:-30\n",
      "R^2 Score:- 0.5263599800843637 for alpha:-35\n",
      "R^2 Score:- 0.5231748447756173 for alpha:-40\n",
      "R^2 Score:- 0.5200314584132824 for alpha:-45\n",
      "R^2 Score:- 0.5169318148352268 for alpha:-50\n",
      "R^2 Score:- 0.5138766062247757 for alpha:-55\n",
      "R^2 Score:- 0.48833327762354994 for alpha:-100\n",
      "\n",
      "Best value of alpha/lambda = 1\n",
      "MSE for this alpha/lambda = 79696833219985.31\n",
      "Best R Squared score = 54.56187978064224\n"
     ]
    }
   ],
   "source": [
    "#Answer\n",
    "from sklearn.linear_model import Ridge\n",
    "\n",
    "alpha = [1e-10,1e-8,1e-3,1e-2,1,5,10,20,30,35,40,45,50,55,100]\n",
    "print(f\"alpha taken:- {alpha}\\n\")\n",
    "\n",
    "\n",
    "mse = mean_squared_error(y_test,y_pred)\n",
    "print('Mean Square Error is {}\\n'.format(mse))\n",
    "\n",
    "best_r2 = 0\n",
    "best_alpha = 0\n",
    "best_mse = mse\n",
    "for param in alpha:\n",
    "    ridgeModel=Ridge(alpha = param)\n",
    "    ridgeModel.fit(x_train, y_train)\n",
    "    \n",
    "    y_pred = ridgeModel.predict(x_test)\n",
    "    mse = mean_squared_error(y_test,y_pred)\n",
    "    \n",
    "    r2 = r2_score(y_test,y_pred)\n",
    "    print(f\"R^2 Score:- {r2} for alpha:-{param}\")    \n",
    "    \n",
    "    if(r2 > best_r2):\n",
    "        best_r2=r2\n",
    "    \n",
    "    if(mse < best_mse):\n",
    "        best_mse = mse\n",
    "        best_alpha = param\n",
    "\n",
    "print(\"\\nBest value of alpha/lambda = {}\".format(best_alpha))\n",
    "print(\"MSE for this alpha/lambda = {}\".format(best_mse))\n",
    "print(\"Best R Squared score = {}\".format(best_r2*100))"
   ]
  },
  {
   "cell_type": "markdown",
   "id": "989ca892",
   "metadata": {},
   "source": [
    "<B>Since the best R^2 score is 54.56 in ridge regression and 54.54 in linear regression we can say that there is minimal improvement in the model performance.</B>"
   ]
  },
  {
   "cell_type": "markdown",
   "id": "5099dfe0",
   "metadata": {},
   "source": [
    "<h3>Question 5:- Also do above for Lasso Regression.</h3>"
   ]
  },
  {
   "cell_type": "code",
   "execution_count": 36,
   "id": "16b3df70",
   "metadata": {},
   "outputs": [
    {
     "name": "stdout",
     "output_type": "stream",
     "text": [
      "alpha taken:- [1e-10, 1e-08, 0.001, 0.01, 1, 5, 10, 20, 30, 35, 40, 45, 50, 55, 100]\n",
      "\n",
      "Mean Square Error is 89744508004712.62\n",
      "\n",
      "R^2 Score:- 0.5447422502817957 for alpha:-1e-10\n",
      "R^2 Score:- 0.5447422502818332 for alpha:-1e-08\n",
      "R^2 Score:- 0.5447422540754416 for alpha:-0.001\n",
      "R^2 Score:- 0.5447422882178724 for alpha:-0.01\n",
      "R^2 Score:- 0.5447460396355919 for alpha:-1\n",
      "R^2 Score:- 0.544761111113161 for alpha:-5\n",
      "R^2 Score:- 0.5447798700028627 for alpha:-10\n",
      "R^2 Score:- 0.5448167320800623 for alpha:-20\n",
      "R^2 Score:- 0.5448526817949317 for alpha:-30\n",
      "R^2 Score:- 0.5448703338563 for alpha:-35\n",
      "R^2 Score:- 0.5448877707202912 for alpha:-40\n",
      "R^2 Score:- 0.5449049923869045 for alpha:-45\n",
      "R^2 Score:- 0.5449219988561407 for alpha:-50\n",
      "R^2 Score:- 0.5449387901279996 for alpha:-55\n",
      "R^2 Score:- 0.5450802276927444 for alpha:-100\n",
      "Best value of alpha/lambda = 100\n",
      "MSE for this alpha/lambda = 79791296486334.9\n",
      "Best R Squared score = 54.50802276927445\n"
     ]
    }
   ],
   "source": [
    "from sklearn.linear_model import Lasso\n",
    "\n",
    "alpha = [1e-10,1e-8,1e-3,1e-2,1,5,10,20,30,35,40,45,50,55,100]\n",
    "print(f\"alpha taken:- {alpha}\\n\")\n",
    "\n",
    "mse = mean_squared_error(y_test,y_pred)\n",
    "print('Mean Square Error is {}\\n'.format(mse))\n",
    "\n",
    "best_r2 = 0\n",
    "best_alpha = 0\n",
    "best_mse = mse\n",
    "for param in alpha:\n",
    "    lassoModel=Lasso(alpha = param)\n",
    "    lassoModel.fit(x_train, y_train)\n",
    "    \n",
    "    y_pred = lassoModel.predict(x_test)\n",
    "    mse = mean_squared_error(y_test,y_pred)\n",
    "\n",
    "    r2 = r2_score(y_test,y_pred)\n",
    "    print(f\"R^2 Score:- {r2} for alpha:-{param}\")    \n",
    "    \n",
    "    if(r2 > best_r2):\n",
    "        best_r2=r2\n",
    "        \n",
    "    if(mse < best_mse):\n",
    "        best_mse = mse\n",
    "        best_alpha = param\n",
    "\n",
    "print(\"Best value of alpha/lambda = {}\".format(best_alpha))\n",
    "print(\"MSE for this alpha/lambda = {}\".format(best_mse))\n",
    "print(\"Best R Squared score = {}\".format(best_r2*100))"
   ]
  },
  {
   "cell_type": "markdown",
   "id": "c91fdb98",
   "metadata": {},
   "source": [
    "<B>Since the best R^2 score is 54.50 in Lasso regression and 54.54 in linear regression we can say that there is no improvement in the model performance.</B>"
   ]
  }
 ],
 "metadata": {
  "kernelspec": {
   "display_name": "Python 3 (ipykernel)",
   "language": "python",
   "name": "python3"
  },
  "language_info": {
   "codemirror_mode": {
    "name": "ipython",
    "version": 3
   },
   "file_extension": ".py",
   "mimetype": "text/x-python",
   "name": "python",
   "nbconvert_exporter": "python",
   "pygments_lexer": "ipython3",
   "version": "3.10.9"
  }
 },
 "nbformat": 4,
 "nbformat_minor": 5
}
